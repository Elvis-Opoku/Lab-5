{
  "nbformat": 4,
  "nbformat_minor": 0,
  "metadata": {
    "colab": {
      "provenance": []
    },
    "kernelspec": {
      "name": "python3",
      "display_name": "Python 3"
    },
    "language_info": {
      "name": "python"
    }
  },
  "cells": [
    {
      "cell_type": "code",
      "execution_count": 1,
      "metadata": {
        "id": "eCGORnzfKMFT"
      },
      "outputs": [],
      "source": [
        "# innstall java\n",
        "!apt-get install openjdk-8-jdk-headless -qq > /dev/null\n",
        "\n",
        "# install spark (change the version number if needed)\n",
        "!wget -q https://archive.apache.org/dist/spark/spark-3.0.0/spark-3.0.0-bin-hadoop3.2.tgz\n",
        "\n",
        "# unzip the spark file to the current folder\n",
        "!tar xf spark-3.0.0-bin-hadoop3.2.tgz\n",
        "\n",
        "# set your spark folder to your system path environment.\n",
        "import os\n",
        "os.environ[\"JAVA_HOME\"] = \"/usr/lib/jvm/java-8-openjdk-amd64\"\n",
        "os.environ[\"SPARK_HOME\"] = \"/content/spark-3.0.0-bin-hadoop3.2\"\n",
        "\n",
        "\n",
        "# install findspark using pip\n",
        "!pip install -q findspark"
      ]
    },
    {
      "cell_type": "code",
      "source": [
        "import findspark\n",
        "findspark.init()\n",
        "from pyspark.sql import SparkSession\n",
        "#spark = SparkSession.builder.master(\"local[*]\").getOrCreate()\n",
        "spark = SparkSession.builder.master(\"local[*]\").enableHiveSupport().getOrCreate()"
      ],
      "metadata": {
        "id": "m6Wc-I6-KPEe"
      },
      "execution_count": 2,
      "outputs": []
    },
    {
      "cell_type": "code",
      "source": [
        "# Upload your file\n",
        "from google.colab import files\n",
        "uploaded = files.upload()\n",
        "\n",
        "# Read the dataset\n",
        "boston_df = spark.read.csv(\"BostonHousing.csv\", header=True, inferSchema=True)\n",
        "boston_df.show(5)"
      ],
      "metadata": {
        "colab": {
          "base_uri": "https://localhost:8080/",
          "height": 274
        },
        "id": "MlCtrvriKSOZ",
        "outputId": "37bd6b9e-a79a-46b6-f44d-42815e63fd6b"
      },
      "execution_count": 3,
      "outputs": [
        {
          "output_type": "display_data",
          "data": {
            "text/plain": [
              "<IPython.core.display.HTML object>"
            ],
            "text/html": [
              "\n",
              "     <input type=\"file\" id=\"files-cb4a679c-edd5-463f-84d2-a79854cfc5fa\" name=\"files[]\" multiple disabled\n",
              "        style=\"border:none\" />\n",
              "     <output id=\"result-cb4a679c-edd5-463f-84d2-a79854cfc5fa\">\n",
              "      Upload widget is only available when the cell has been executed in the\n",
              "      current browser session. Please rerun this cell to enable.\n",
              "      </output>\n",
              "      <script>// Copyright 2017 Google LLC\n",
              "//\n",
              "// Licensed under the Apache License, Version 2.0 (the \"License\");\n",
              "// you may not use this file except in compliance with the License.\n",
              "// You may obtain a copy of the License at\n",
              "//\n",
              "//      http://www.apache.org/licenses/LICENSE-2.0\n",
              "//\n",
              "// Unless required by applicable law or agreed to in writing, software\n",
              "// distributed under the License is distributed on an \"AS IS\" BASIS,\n",
              "// WITHOUT WARRANTIES OR CONDITIONS OF ANY KIND, either express or implied.\n",
              "// See the License for the specific language governing permissions and\n",
              "// limitations under the License.\n",
              "\n",
              "/**\n",
              " * @fileoverview Helpers for google.colab Python module.\n",
              " */\n",
              "(function(scope) {\n",
              "function span(text, styleAttributes = {}) {\n",
              "  const element = document.createElement('span');\n",
              "  element.textContent = text;\n",
              "  for (const key of Object.keys(styleAttributes)) {\n",
              "    element.style[key] = styleAttributes[key];\n",
              "  }\n",
              "  return element;\n",
              "}\n",
              "\n",
              "// Max number of bytes which will be uploaded at a time.\n",
              "const MAX_PAYLOAD_SIZE = 100 * 1024;\n",
              "\n",
              "function _uploadFiles(inputId, outputId) {\n",
              "  const steps = uploadFilesStep(inputId, outputId);\n",
              "  const outputElement = document.getElementById(outputId);\n",
              "  // Cache steps on the outputElement to make it available for the next call\n",
              "  // to uploadFilesContinue from Python.\n",
              "  outputElement.steps = steps;\n",
              "\n",
              "  return _uploadFilesContinue(outputId);\n",
              "}\n",
              "\n",
              "// This is roughly an async generator (not supported in the browser yet),\n",
              "// where there are multiple asynchronous steps and the Python side is going\n",
              "// to poll for completion of each step.\n",
              "// This uses a Promise to block the python side on completion of each step,\n",
              "// then passes the result of the previous step as the input to the next step.\n",
              "function _uploadFilesContinue(outputId) {\n",
              "  const outputElement = document.getElementById(outputId);\n",
              "  const steps = outputElement.steps;\n",
              "\n",
              "  const next = steps.next(outputElement.lastPromiseValue);\n",
              "  return Promise.resolve(next.value.promise).then((value) => {\n",
              "    // Cache the last promise value to make it available to the next\n",
              "    // step of the generator.\n",
              "    outputElement.lastPromiseValue = value;\n",
              "    return next.value.response;\n",
              "  });\n",
              "}\n",
              "\n",
              "/**\n",
              " * Generator function which is called between each async step of the upload\n",
              " * process.\n",
              " * @param {string} inputId Element ID of the input file picker element.\n",
              " * @param {string} outputId Element ID of the output display.\n",
              " * @return {!Iterable<!Object>} Iterable of next steps.\n",
              " */\n",
              "function* uploadFilesStep(inputId, outputId) {\n",
              "  const inputElement = document.getElementById(inputId);\n",
              "  inputElement.disabled = false;\n",
              "\n",
              "  const outputElement = document.getElementById(outputId);\n",
              "  outputElement.innerHTML = '';\n",
              "\n",
              "  const pickedPromise = new Promise((resolve) => {\n",
              "    inputElement.addEventListener('change', (e) => {\n",
              "      resolve(e.target.files);\n",
              "    });\n",
              "  });\n",
              "\n",
              "  const cancel = document.createElement('button');\n",
              "  inputElement.parentElement.appendChild(cancel);\n",
              "  cancel.textContent = 'Cancel upload';\n",
              "  const cancelPromise = new Promise((resolve) => {\n",
              "    cancel.onclick = () => {\n",
              "      resolve(null);\n",
              "    };\n",
              "  });\n",
              "\n",
              "  // Wait for the user to pick the files.\n",
              "  const files = yield {\n",
              "    promise: Promise.race([pickedPromise, cancelPromise]),\n",
              "    response: {\n",
              "      action: 'starting',\n",
              "    }\n",
              "  };\n",
              "\n",
              "  cancel.remove();\n",
              "\n",
              "  // Disable the input element since further picks are not allowed.\n",
              "  inputElement.disabled = true;\n",
              "\n",
              "  if (!files) {\n",
              "    return {\n",
              "      response: {\n",
              "        action: 'complete',\n",
              "      }\n",
              "    };\n",
              "  }\n",
              "\n",
              "  for (const file of files) {\n",
              "    const li = document.createElement('li');\n",
              "    li.append(span(file.name, {fontWeight: 'bold'}));\n",
              "    li.append(span(\n",
              "        `(${file.type || 'n/a'}) - ${file.size} bytes, ` +\n",
              "        `last modified: ${\n",
              "            file.lastModifiedDate ? file.lastModifiedDate.toLocaleDateString() :\n",
              "                                    'n/a'} - `));\n",
              "    const percent = span('0% done');\n",
              "    li.appendChild(percent);\n",
              "\n",
              "    outputElement.appendChild(li);\n",
              "\n",
              "    const fileDataPromise = new Promise((resolve) => {\n",
              "      const reader = new FileReader();\n",
              "      reader.onload = (e) => {\n",
              "        resolve(e.target.result);\n",
              "      };\n",
              "      reader.readAsArrayBuffer(file);\n",
              "    });\n",
              "    // Wait for the data to be ready.\n",
              "    let fileData = yield {\n",
              "      promise: fileDataPromise,\n",
              "      response: {\n",
              "        action: 'continue',\n",
              "      }\n",
              "    };\n",
              "\n",
              "    // Use a chunked sending to avoid message size limits. See b/62115660.\n",
              "    let position = 0;\n",
              "    do {\n",
              "      const length = Math.min(fileData.byteLength - position, MAX_PAYLOAD_SIZE);\n",
              "      const chunk = new Uint8Array(fileData, position, length);\n",
              "      position += length;\n",
              "\n",
              "      const base64 = btoa(String.fromCharCode.apply(null, chunk));\n",
              "      yield {\n",
              "        response: {\n",
              "          action: 'append',\n",
              "          file: file.name,\n",
              "          data: base64,\n",
              "        },\n",
              "      };\n",
              "\n",
              "      let percentDone = fileData.byteLength === 0 ?\n",
              "          100 :\n",
              "          Math.round((position / fileData.byteLength) * 100);\n",
              "      percent.textContent = `${percentDone}% done`;\n",
              "\n",
              "    } while (position < fileData.byteLength);\n",
              "  }\n",
              "\n",
              "  // All done.\n",
              "  yield {\n",
              "    response: {\n",
              "      action: 'complete',\n",
              "    }\n",
              "  };\n",
              "}\n",
              "\n",
              "scope.google = scope.google || {};\n",
              "scope.google.colab = scope.google.colab || {};\n",
              "scope.google.colab._files = {\n",
              "  _uploadFiles,\n",
              "  _uploadFilesContinue,\n",
              "};\n",
              "})(self);\n",
              "</script> "
            ]
          },
          "metadata": {}
        },
        {
          "output_type": "stream",
          "name": "stdout",
          "text": [
            "Saving BostonHousing.csv to BostonHousing.csv\n",
            "+-------+----+-----+----+-----+-----+----+------+---+---+-------+------+-----+----+\n",
            "|   crim|  zn|indus|chas|  nox|   rm| age|   dis|rad|tax|ptratio|     b|lstat|medv|\n",
            "+-------+----+-----+----+-----+-----+----+------+---+---+-------+------+-----+----+\n",
            "|0.00632|18.0| 2.31|   0|0.538|6.575|65.2|  4.09|  1|296|   15.3| 396.9| 4.98|24.0|\n",
            "|0.02731| 0.0| 7.07|   0|0.469|6.421|78.9|4.9671|  2|242|   17.8| 396.9| 9.14|21.6|\n",
            "|0.02729| 0.0| 7.07|   0|0.469|7.185|61.1|4.9671|  2|242|   17.8|392.83| 4.03|34.7|\n",
            "|0.03237| 0.0| 2.18|   0|0.458|6.998|45.8|6.0622|  3|222|   18.7|394.63| 2.94|33.4|\n",
            "|0.06905| 0.0| 2.18|   0|0.458|7.147|54.2|6.0622|  3|222|   18.7| 396.9| 5.33|36.2|\n",
            "+-------+----+-----+----+-----+-----+----+------+---+---+-------+------+-----+----+\n",
            "only showing top 5 rows\n",
            "\n"
          ]
        }
      ]
    },
    {
      "cell_type": "code",
      "source": [],
      "metadata": {
        "id": "lJdnJIDiKiyX"
      },
      "execution_count": null,
      "outputs": []
    },
    {
      "cell_type": "markdown",
      "source": [
        "# **Step 3:** Single Vector columns using VectorAssembler"
      ],
      "metadata": {
        "id": "68t4FWzYMnZ5"
      }
    },
    {
      "cell_type": "code",
      "source": [
        "from pyspark.ml import pipeline\n",
        "from pyspark.ml.feature import VectorAssembler, StringIndexer, OneHotEncoder, VectorAssembler\n",
        "\n",
        "only_features = ['crim', 'zn', 'indus', 'chas', 'nox', 'rm', 'age', 'dis', 'rad', 'tax', 'ptratio', 'b', 'lstat']\n",
        "assembler = VectorAssembler(inputCols=only_features, outputCol=\"features\")\n",
        "feat_df= assembler.transform(boston_df).select(\"features\")\n",
        "feat_df.show(6)"
      ],
      "metadata": {
        "id": "VokWX5jOLL14",
        "colab": {
          "base_uri": "https://localhost:8080/"
        },
        "outputId": "5eabc28e-0e50-4e0e-cefd-f08a37626bec"
      },
      "execution_count": 4,
      "outputs": [
        {
          "output_type": "stream",
          "name": "stdout",
          "text": [
            "+--------------------+\n",
            "|            features|\n",
            "+--------------------+\n",
            "|[0.00632,18.0,2.3...|\n",
            "|[0.02731,0.0,7.07...|\n",
            "|[0.02729,0.0,7.07...|\n",
            "|[0.03237,0.0,2.18...|\n",
            "|[0.06905,0.0,2.18...|\n",
            "|[0.02985,0.0,2.18...|\n",
            "+--------------------+\n",
            "only showing top 6 rows\n",
            "\n"
          ]
        }
      ]
    },
    {
      "cell_type": "markdown",
      "source": [
        "# **Step 4** Standardize features for principal component"
      ],
      "metadata": {
        "id": "3V0IRq5XPSMn"
      }
    },
    {
      "cell_type": "code",
      "source": [
        "##\n",
        "from pyspark.ml.feature import StandardScaler\n",
        "scaler = StandardScaler(inputCol=\"features\", outputCol=\"scaledFeatures\", withStd=True, withMean=True)\n",
        "scalerModel = scaler.fit(feat_df)\n",
        "scaled_df = scalerModel.transform(feat_df)\n",
        "scaled_df.show(6)\n",
        "\n"
      ],
      "metadata": {
        "id": "7fGYaxYWNM4C",
        "colab": {
          "base_uri": "https://localhost:8080/"
        },
        "outputId": "74f3be30-50b4-47c1-c9c4-3ab05eb0e3d0"
      },
      "execution_count": 5,
      "outputs": [
        {
          "output_type": "stream",
          "name": "stdout",
          "text": [
            "+--------------------+--------------------+\n",
            "|            features|      scaledFeatures|\n",
            "+--------------------+--------------------+\n",
            "|[0.00632,18.0,2.3...|[-0.4193669292132...|\n",
            "|[0.02731,0.0,7.07...|[-0.4169266699640...|\n",
            "|[0.02729,0.0,7.07...|[-0.4169289951277...|\n",
            "|[0.03237,0.0,2.18...|[-0.4163384035610...|\n",
            "|[0.06905,0.0,2.18...|[-0.4120740534296...|\n",
            "|[0.02985,0.0,2.18...|[-0.4166313741807...|\n",
            "+--------------------+--------------------+\n",
            "only showing top 6 rows\n",
            "\n"
          ]
        }
      ]
    },
    {
      "cell_type": "markdown",
      "source": [
        "# **Step 5** Train model for two principal component analysis"
      ],
      "metadata": {
        "id": "or3hvWo9PJsy"
      }
    },
    {
      "cell_type": "code",
      "source": [
        "from pyspark.ml.feature import PCA\n",
        "pca = PCA(k=2, inputCol=\"scaledFeatures\", outputCol=\"pcaFeatures\")\n",
        "model = pca.fit(scaled_df)\n",
        "result = model.transform(scaled_df)\n",
        "result.show(6)"
      ],
      "metadata": {
        "id": "jClvnOgDOrNR",
        "colab": {
          "base_uri": "https://localhost:8080/"
        },
        "outputId": "0221ad42-8456-4760-e6de-af8eacf51942"
      },
      "execution_count": 6,
      "outputs": [
        {
          "output_type": "stream",
          "name": "stdout",
          "text": [
            "+--------------------+--------------------+--------------------+\n",
            "|            features|      scaledFeatures|         pcaFeatures|\n",
            "+--------------------+--------------------+--------------------+\n",
            "|[0.00632,18.0,2.3...|[-0.4193669292132...|[2.09622303023858...|\n",
            "|[0.02731,0.0,7.07...|[-0.4169266699640...|[1.45581098944742...|\n",
            "|[0.02729,0.0,7.07...|[-0.4169289951277...|[2.07254655194818...|\n",
            "|[0.03237,0.0,2.18...|[-0.4163384035610...|[2.60892175886434...|\n",
            "|[0.06905,0.0,2.18...|[-0.4120740534296...|[2.45575477193107...|\n",
            "|[0.02985,0.0,2.18...|[-0.4166313741807...|[2.21266184319277...|\n",
            "+--------------------+--------------------+--------------------+\n",
            "only showing top 6 rows\n",
            "\n"
          ]
        }
      ]
    },
    {
      "cell_type": "code",
      "source": [
        "#collect distributed data in numpy array and then convert to pandas dataframe\n",
        "import numpy as np\n",
        "import scipy.stats as stats\n",
        "import matplotlib\n",
        "import matplotlib.pyplot as plt\n",
        "import seaborn as sns\n",
        "sns.set_theme\n",
        "import pandas as pd\n",
        "from sklearn.decomposition import PCA\n",
        "\n",
        "pca_features = result.rdd.map(lambda row: row.pcaFeatures).collect()\n",
        "pca_features = np.array(pca_features)\n",
        "pca_features"
      ],
      "metadata": {
        "id": "LnGjoCjiPZrA",
        "colab": {
          "base_uri": "https://localhost:8080/"
        },
        "outputId": "975ef1d5-611c-4498-caf0-492bd6dcb98f"
      },
      "execution_count": 7,
      "outputs": [
        {
          "output_type": "execute_result",
          "data": {
            "text/plain": [
              "array([[2.09622303, 0.77234843],\n",
              "       [1.45581099, 0.59139995],\n",
              "       [2.07254655, 0.59904658],\n",
              "       ...,\n",
              "       [0.31205166, 1.15410433],\n",
              "       [0.27025162, 1.04033206],\n",
              "       [0.12567884, 0.76122473]])"
            ]
          },
          "metadata": {},
          "execution_count": 7
        }
      ]
    },
    {
      "cell_type": "code",
      "source": [
        "#Convert Array to Dataframe\n",
        "pca_df = pd.DataFrame(pca_features, columns=['PC_first', 'PC_second'])\n",
        "pca_df.head()"
      ],
      "metadata": {
        "id": "orUAkTVnQ7qx",
        "colab": {
          "base_uri": "https://localhost:8080/",
          "height": 206
        },
        "outputId": "2dfbdf91-fe6e-4161-b380-6d2bfdbaba8f"
      },
      "execution_count": 8,
      "outputs": [
        {
          "output_type": "execute_result",
          "data": {
            "text/plain": [
              "   PC_first  PC_second\n",
              "0  2.096223   0.772348\n",
              "1  1.455811   0.591400\n",
              "2  2.072547   0.599047\n",
              "3  2.608922  -0.006864\n",
              "4  2.455755   0.097615"
            ],
            "text/html": [
              "\n",
              "  <div id=\"df-93259983-662b-4a60-87f6-e08c9b67e38c\" class=\"colab-df-container\">\n",
              "    <div>\n",
              "<style scoped>\n",
              "    .dataframe tbody tr th:only-of-type {\n",
              "        vertical-align: middle;\n",
              "    }\n",
              "\n",
              "    .dataframe tbody tr th {\n",
              "        vertical-align: top;\n",
              "    }\n",
              "\n",
              "    .dataframe thead th {\n",
              "        text-align: right;\n",
              "    }\n",
              "</style>\n",
              "<table border=\"1\" class=\"dataframe\">\n",
              "  <thead>\n",
              "    <tr style=\"text-align: right;\">\n",
              "      <th></th>\n",
              "      <th>PC_first</th>\n",
              "      <th>PC_second</th>\n",
              "    </tr>\n",
              "  </thead>\n",
              "  <tbody>\n",
              "    <tr>\n",
              "      <th>0</th>\n",
              "      <td>2.096223</td>\n",
              "      <td>0.772348</td>\n",
              "    </tr>\n",
              "    <tr>\n",
              "      <th>1</th>\n",
              "      <td>1.455811</td>\n",
              "      <td>0.591400</td>\n",
              "    </tr>\n",
              "    <tr>\n",
              "      <th>2</th>\n",
              "      <td>2.072547</td>\n",
              "      <td>0.599047</td>\n",
              "    </tr>\n",
              "    <tr>\n",
              "      <th>3</th>\n",
              "      <td>2.608922</td>\n",
              "      <td>-0.006864</td>\n",
              "    </tr>\n",
              "    <tr>\n",
              "      <th>4</th>\n",
              "      <td>2.455755</td>\n",
              "      <td>0.097615</td>\n",
              "    </tr>\n",
              "  </tbody>\n",
              "</table>\n",
              "</div>\n",
              "    <div class=\"colab-df-buttons\">\n",
              "\n",
              "  <div class=\"colab-df-container\">\n",
              "    <button class=\"colab-df-convert\" onclick=\"convertToInteractive('df-93259983-662b-4a60-87f6-e08c9b67e38c')\"\n",
              "            title=\"Convert this dataframe to an interactive table.\"\n",
              "            style=\"display:none;\">\n",
              "\n",
              "  <svg xmlns=\"http://www.w3.org/2000/svg\" height=\"24px\" viewBox=\"0 -960 960 960\">\n",
              "    <path d=\"M120-120v-720h720v720H120Zm60-500h600v-160H180v160Zm220 220h160v-160H400v160Zm0 220h160v-160H400v160ZM180-400h160v-160H180v160Zm440 0h160v-160H620v160ZM180-180h160v-160H180v160Zm440 0h160v-160H620v160Z\"/>\n",
              "  </svg>\n",
              "    </button>\n",
              "\n",
              "  <style>\n",
              "    .colab-df-container {\n",
              "      display:flex;\n",
              "      gap: 12px;\n",
              "    }\n",
              "\n",
              "    .colab-df-convert {\n",
              "      background-color: #E8F0FE;\n",
              "      border: none;\n",
              "      border-radius: 50%;\n",
              "      cursor: pointer;\n",
              "      display: none;\n",
              "      fill: #1967D2;\n",
              "      height: 32px;\n",
              "      padding: 0 0 0 0;\n",
              "      width: 32px;\n",
              "    }\n",
              "\n",
              "    .colab-df-convert:hover {\n",
              "      background-color: #E2EBFA;\n",
              "      box-shadow: 0px 1px 2px rgba(60, 64, 67, 0.3), 0px 1px 3px 1px rgba(60, 64, 67, 0.15);\n",
              "      fill: #174EA6;\n",
              "    }\n",
              "\n",
              "    .colab-df-buttons div {\n",
              "      margin-bottom: 4px;\n",
              "    }\n",
              "\n",
              "    [theme=dark] .colab-df-convert {\n",
              "      background-color: #3B4455;\n",
              "      fill: #D2E3FC;\n",
              "    }\n",
              "\n",
              "    [theme=dark] .colab-df-convert:hover {\n",
              "      background-color: #434B5C;\n",
              "      box-shadow: 0px 1px 3px 1px rgba(0, 0, 0, 0.15);\n",
              "      filter: drop-shadow(0px 1px 2px rgba(0, 0, 0, 0.3));\n",
              "      fill: #FFFFFF;\n",
              "    }\n",
              "  </style>\n",
              "\n",
              "    <script>\n",
              "      const buttonEl =\n",
              "        document.querySelector('#df-93259983-662b-4a60-87f6-e08c9b67e38c button.colab-df-convert');\n",
              "      buttonEl.style.display =\n",
              "        google.colab.kernel.accessAllowed ? 'block' : 'none';\n",
              "\n",
              "      async function convertToInteractive(key) {\n",
              "        const element = document.querySelector('#df-93259983-662b-4a60-87f6-e08c9b67e38c');\n",
              "        const dataTable =\n",
              "          await google.colab.kernel.invokeFunction('convertToInteractive',\n",
              "                                                    [key], {});\n",
              "        if (!dataTable) return;\n",
              "\n",
              "        const docLinkHtml = 'Like what you see? Visit the ' +\n",
              "          '<a target=\"_blank\" href=https://colab.research.google.com/notebooks/data_table.ipynb>data table notebook</a>'\n",
              "          + ' to learn more about interactive tables.';\n",
              "        element.innerHTML = '';\n",
              "        dataTable['output_type'] = 'display_data';\n",
              "        await google.colab.output.renderOutput(dataTable, element);\n",
              "        const docLink = document.createElement('div');\n",
              "        docLink.innerHTML = docLinkHtml;\n",
              "        element.appendChild(docLink);\n",
              "      }\n",
              "    </script>\n",
              "  </div>\n",
              "\n",
              "\n",
              "<div id=\"df-aa28a8ff-7f5a-4fff-b8b4-52747b25531b\">\n",
              "  <button class=\"colab-df-quickchart\" onclick=\"quickchart('df-aa28a8ff-7f5a-4fff-b8b4-52747b25531b')\"\n",
              "            title=\"Suggest charts\"\n",
              "            style=\"display:none;\">\n",
              "\n",
              "<svg xmlns=\"http://www.w3.org/2000/svg\" height=\"24px\"viewBox=\"0 0 24 24\"\n",
              "     width=\"24px\">\n",
              "    <g>\n",
              "        <path d=\"M19 3H5c-1.1 0-2 .9-2 2v14c0 1.1.9 2 2 2h14c1.1 0 2-.9 2-2V5c0-1.1-.9-2-2-2zM9 17H7v-7h2v7zm4 0h-2V7h2v10zm4 0h-2v-4h2v4z\"/>\n",
              "    </g>\n",
              "</svg>\n",
              "  </button>\n",
              "\n",
              "<style>\n",
              "  .colab-df-quickchart {\n",
              "      --bg-color: #E8F0FE;\n",
              "      --fill-color: #1967D2;\n",
              "      --hover-bg-color: #E2EBFA;\n",
              "      --hover-fill-color: #174EA6;\n",
              "      --disabled-fill-color: #AAA;\n",
              "      --disabled-bg-color: #DDD;\n",
              "  }\n",
              "\n",
              "  [theme=dark] .colab-df-quickchart {\n",
              "      --bg-color: #3B4455;\n",
              "      --fill-color: #D2E3FC;\n",
              "      --hover-bg-color: #434B5C;\n",
              "      --hover-fill-color: #FFFFFF;\n",
              "      --disabled-bg-color: #3B4455;\n",
              "      --disabled-fill-color: #666;\n",
              "  }\n",
              "\n",
              "  .colab-df-quickchart {\n",
              "    background-color: var(--bg-color);\n",
              "    border: none;\n",
              "    border-radius: 50%;\n",
              "    cursor: pointer;\n",
              "    display: none;\n",
              "    fill: var(--fill-color);\n",
              "    height: 32px;\n",
              "    padding: 0;\n",
              "    width: 32px;\n",
              "  }\n",
              "\n",
              "  .colab-df-quickchart:hover {\n",
              "    background-color: var(--hover-bg-color);\n",
              "    box-shadow: 0 1px 2px rgba(60, 64, 67, 0.3), 0 1px 3px 1px rgba(60, 64, 67, 0.15);\n",
              "    fill: var(--button-hover-fill-color);\n",
              "  }\n",
              "\n",
              "  .colab-df-quickchart-complete:disabled,\n",
              "  .colab-df-quickchart-complete:disabled:hover {\n",
              "    background-color: var(--disabled-bg-color);\n",
              "    fill: var(--disabled-fill-color);\n",
              "    box-shadow: none;\n",
              "  }\n",
              "\n",
              "  .colab-df-spinner {\n",
              "    border: 2px solid var(--fill-color);\n",
              "    border-color: transparent;\n",
              "    border-bottom-color: var(--fill-color);\n",
              "    animation:\n",
              "      spin 1s steps(1) infinite;\n",
              "  }\n",
              "\n",
              "  @keyframes spin {\n",
              "    0% {\n",
              "      border-color: transparent;\n",
              "      border-bottom-color: var(--fill-color);\n",
              "      border-left-color: var(--fill-color);\n",
              "    }\n",
              "    20% {\n",
              "      border-color: transparent;\n",
              "      border-left-color: var(--fill-color);\n",
              "      border-top-color: var(--fill-color);\n",
              "    }\n",
              "    30% {\n",
              "      border-color: transparent;\n",
              "      border-left-color: var(--fill-color);\n",
              "      border-top-color: var(--fill-color);\n",
              "      border-right-color: var(--fill-color);\n",
              "    }\n",
              "    40% {\n",
              "      border-color: transparent;\n",
              "      border-right-color: var(--fill-color);\n",
              "      border-top-color: var(--fill-color);\n",
              "    }\n",
              "    60% {\n",
              "      border-color: transparent;\n",
              "      border-right-color: var(--fill-color);\n",
              "    }\n",
              "    80% {\n",
              "      border-color: transparent;\n",
              "      border-right-color: var(--fill-color);\n",
              "      border-bottom-color: var(--fill-color);\n",
              "    }\n",
              "    90% {\n",
              "      border-color: transparent;\n",
              "      border-bottom-color: var(--fill-color);\n",
              "    }\n",
              "  }\n",
              "</style>\n",
              "\n",
              "  <script>\n",
              "    async function quickchart(key) {\n",
              "      const quickchartButtonEl =\n",
              "        document.querySelector('#' + key + ' button');\n",
              "      quickchartButtonEl.disabled = true;  // To prevent multiple clicks.\n",
              "      quickchartButtonEl.classList.add('colab-df-spinner');\n",
              "      try {\n",
              "        const charts = await google.colab.kernel.invokeFunction(\n",
              "            'suggestCharts', [key], {});\n",
              "      } catch (error) {\n",
              "        console.error('Error during call to suggestCharts:', error);\n",
              "      }\n",
              "      quickchartButtonEl.classList.remove('colab-df-spinner');\n",
              "      quickchartButtonEl.classList.add('colab-df-quickchart-complete');\n",
              "    }\n",
              "    (() => {\n",
              "      let quickchartButtonEl =\n",
              "        document.querySelector('#df-aa28a8ff-7f5a-4fff-b8b4-52747b25531b button');\n",
              "      quickchartButtonEl.style.display =\n",
              "        google.colab.kernel.accessAllowed ? 'block' : 'none';\n",
              "    })();\n",
              "  </script>\n",
              "</div>\n",
              "\n",
              "    </div>\n",
              "  </div>\n"
            ],
            "application/vnd.google.colaboratory.intrinsic+json": {
              "type": "dataframe",
              "variable_name": "pca_df",
              "summary": "{\n  \"name\": \"pca_df\",\n  \"rows\": 506,\n  \"fields\": [\n    {\n      \"column\": \"PC_first\",\n      \"properties\": {\n        \"dtype\": \"number\",\n        \"std\": 2.475247225318252,\n        \"min\": -6.131344271954529,\n        \"max\": 4.849307765007268,\n        \"num_unique_values\": 506,\n        \"samples\": [\n          0.9677437783406266,\n          2.6054103087753124,\n          -2.453672176789741\n        ],\n        \"semantic_type\": \"\",\n        \"description\": \"\"\n      }\n    },\n    {\n      \"column\": \"PC_second\",\n      \"properties\": {\n        \"dtype\": \"number\",\n        \"std\": 1.1971946885057765,\n        \"min\": -3.606060185711302,\n        \"max\": 3.990500273511606,\n        \"num_unique_values\": 506,\n        \"samples\": [\n          1.0550052496220463,\n          1.490594079512192,\n          0.6690119257843108\n        ],\n        \"semantic_type\": \"\",\n        \"description\": \"\"\n      }\n    }\n  ]\n}"
            }
          },
          "metadata": {},
          "execution_count": 8
        }
      ]
    },
    {
      "cell_type": "markdown",
      "source": [
        "# **Step 7**: Plot two principal components"
      ],
      "metadata": {
        "id": "_4d7qD5oSEpz"
      }
    },
    {
      "cell_type": "code",
      "source": [
        "#\n",
        "sns.scatterplot(x='PC_first', y='PC_second', data=pca_df, color='green')\n",
        "plt.xlabel('PC_first')\n",
        "plt.ylabel('PC_second' )\n",
        "plt.title('Principal Component Analysis')\n",
        "plt.show()"
      ],
      "metadata": {
        "id": "iWLGhBZJR4uz",
        "colab": {
          "base_uri": "https://localhost:8080/",
          "height": 472
        },
        "outputId": "c06fc510-53f9-4522-db9c-ce9c38cbe787"
      },
      "execution_count": 9,
      "outputs": [
        {
          "output_type": "display_data",
          "data": {
            "text/plain": [
              "<Figure size 640x480 with 1 Axes>"
            ],
            "image/png": "[encoded data removed]"
          },
          "metadata": {}
        }
      ]
    },
    {
      "cell_type": "markdown",
      "source": [
        "# **Step 8**: Vectorize features and target together for model development"
      ],
      "metadata": {
        "id": "Ax6GOevHTgAH"
      }
    },
    {
      "cell_type": "code",
      "source": [
        "#\n",
        "#use the vectorassembler to transform the dataframe\n",
        "assem_df= assembler.transform(boston_df)\n",
        "assem_df.show(6)"
      ],
      "metadata": {
        "id": "YCJvedOmSVyN",
        "colab": {
          "base_uri": "https://localhost:8080/"
        },
        "outputId": "6e85b80b-7422-43d4-8a88-b96d67ba9ef4"
      },
      "execution_count": 10,
      "outputs": [
        {
          "output_type": "stream",
          "name": "stdout",
          "text": [
            "+-------+----+-----+----+-----+-----+----+------+---+---+-------+------+-----+----+--------------------+\n",
            "|   crim|  zn|indus|chas|  nox|   rm| age|   dis|rad|tax|ptratio|     b|lstat|medv|            features|\n",
            "+-------+----+-----+----+-----+-----+----+------+---+---+-------+------+-----+----+--------------------+\n",
            "|0.00632|18.0| 2.31|   0|0.538|6.575|65.2|  4.09|  1|296|   15.3| 396.9| 4.98|24.0|[0.00632,18.0,2.3...|\n",
            "|0.02731| 0.0| 7.07|   0|0.469|6.421|78.9|4.9671|  2|242|   17.8| 396.9| 9.14|21.6|[0.02731,0.0,7.07...|\n",
            "|0.02729| 0.0| 7.07|   0|0.469|7.185|61.1|4.9671|  2|242|   17.8|392.83| 4.03|34.7|[0.02729,0.0,7.07...|\n",
            "|0.03237| 0.0| 2.18|   0|0.458|6.998|45.8|6.0622|  3|222|   18.7|394.63| 2.94|33.4|[0.03237,0.0,2.18...|\n",
            "|0.06905| 0.0| 2.18|   0|0.458|7.147|54.2|6.0622|  3|222|   18.7| 396.9| 5.33|36.2|[0.06905,0.0,2.18...|\n",
            "|0.02985| 0.0| 2.18|   0|0.458| 6.43|58.7|6.0622|  3|222|   18.7|394.12| 5.21|28.7|[0.02985,0.0,2.18...|\n",
            "+-------+----+-----+----+-----+-----+----+------+---+---+-------+------+-----+----+--------------------+\n",
            "only showing top 6 rows\n",
            "\n"
          ]
        }
      ]
    },
    {
      "cell_type": "code",
      "source": [
        "#select the relevant colums (Features and medv)\n",
        "assem_df = assem_df.select(\"features\", \"medv\")\n",
        "assem_df.show(10)"
      ],
      "metadata": {
        "id": "SRfzek3zTJoF",
        "colab": {
          "base_uri": "https://localhost:8080/"
        },
        "outputId": "3623263d-a5e0-41a8-cf5e-d8c5b87c8661"
      },
      "execution_count": 11,
      "outputs": [
        {
          "output_type": "stream",
          "name": "stdout",
          "text": [
            "+--------------------+----+\n",
            "|            features|medv|\n",
            "+--------------------+----+\n",
            "|[0.00632,18.0,2.3...|24.0|\n",
            "|[0.02731,0.0,7.07...|21.6|\n",
            "|[0.02729,0.0,7.07...|34.7|\n",
            "|[0.03237,0.0,2.18...|33.4|\n",
            "|[0.06905,0.0,2.18...|36.2|\n",
            "|[0.02985,0.0,2.18...|28.7|\n",
            "|[0.08829,12.5,7.8...|22.9|\n",
            "|[0.14455,12.5,7.8...|27.1|\n",
            "|[0.21124,12.5,7.8...|16.5|\n",
            "|[0.17004,12.5,7.8...|18.9|\n",
            "+--------------------+----+\n",
            "only showing top 10 rows\n",
            "\n"
          ]
        }
      ]
    },
    {
      "cell_type": "markdown",
      "source": [
        "# **Step 9:** Split dataset into training and testing dataset"
      ],
      "metadata": {
        "id": "Uhw97WIiUJ09"
      }
    },
    {
      "cell_type": "code",
      "source": [
        "\n",
        "train_data, test_data = assem_df.randomSplit([0.7, 0.3], seed=1234)"
      ],
      "metadata": {
        "id": "nH-Uimf0Tsf2"
      },
      "execution_count": 12,
      "outputs": []
    },
    {
      "cell_type": "markdown",
      "source": [
        "# **Step 10**: fit model for Linear regression"
      ],
      "metadata": {
        "id": "wiUMH1JpU5Zg"
      }
    },
    {
      "cell_type": "code",
      "source": [
        "\n",
        "from pyspark.ml.regression import LinearRegression\n",
        "linear_reg = LinearRegression(featuresCol='features', labelCol='medv')\n",
        "model = linear_reg.fit(train_data)\n"
      ],
      "metadata": {
        "id": "wqJfZwknUS8r"
      },
      "execution_count": 13,
      "outputs": []
    },
    {
      "cell_type": "markdown",
      "source": [
        "# **Step 11:** find out model coefficients and intecept"
      ],
      "metadata": {
        "id": "GEhbRfhhV-KR"
      }
    },
    {
      "cell_type": "code",
      "source": [
        "\n",
        "coeff = model.coefficients\n",
        "intercept = model.intercept\n",
        "print('coefficients:', coeff)\n",
        "print('intercept:', intercept)"
      ],
      "metadata": {
        "id": "XHZ3EwtvU2ni",
        "colab": {
          "base_uri": "https://localhost:8080/"
        },
        "outputId": "36e32db0-e0ce-4397-e3cb-37204970ba30"
      },
      "execution_count": 14,
      "outputs": [
        {
          "output_type": "stream",
          "name": "stdout",
          "text": [
            "coefficients: [-0.11351036762357207,0.05203389072727296,0.0325125461039978,1.9074261307848872,-21.566427309053264,3.599604461627472,0.011499257857532849,-1.6229245800510885,0.3084167425049911,-0.013338106397576838,-1.0505950579869312,0.006623761872930897,-0.5273906040007602]\n",
            "intercept: 42.74724202488602\n"
          ]
        }
      ]
    },
    {
      "cell_type": "markdown",
      "source": [
        "# **Step 12:** Evaluate model for test dataset"
      ],
      "metadata": {
        "id": "5BpiilqOWjRS"
      }
    },
    {
      "cell_type": "code",
      "source": [
        "pred= model.evaluate(test_data)\n",
        "pred.predictions.show(10)"
      ],
      "metadata": {
        "id": "21J06MIEWDhu",
        "colab": {
          "base_uri": "https://localhost:8080/"
        },
        "outputId": "599e96b5-3dad-4f96-db01-486175bdb2dc"
      },
      "execution_count": 15,
      "outputs": [
        {
          "output_type": "stream",
          "name": "stdout",
          "text": [
            "+--------------------+----+------------------+\n",
            "|            features|medv|        prediction|\n",
            "+--------------------+----+------------------+\n",
            "|[0.00632,18.0,2.3...|24.0|30.223688917850634|\n",
            "|[0.00906,90.0,2.9...|32.2|31.700706405435234|\n",
            "|[0.01311,90.0,1.2...|35.4|30.816457118477068|\n",
            "|[0.02498,0.0,1.89...|16.5|21.688006600462877|\n",
            "|[0.02731,0.0,7.07...|21.6|25.315515032681418|\n",
            "|[0.02763,75.0,2.9...|30.8|31.417015311788646|\n",
            "|[0.02875,28.0,15....|25.0| 29.28473468899159|\n",
            "|[0.02899,40.0,1.2...|26.6| 21.33878627608826|\n",
            "|[0.03041,0.0,5.19...|18.5|18.976333132275503|\n",
            "|[0.03113,0.0,4.39...|17.5|16.034358631520146|\n",
            "+--------------------+----+------------------+\n",
            "only showing top 10 rows\n",
            "\n"
          ]
        }
      ]
    },
    {
      "cell_type": "markdown",
      "source": [
        "# **Step 13:** Perform further analysis for better interpretation of model results."
      ],
      "metadata": {
        "id": "EUIrcOR4QrGu"
      }
    },
    {
      "cell_type": "code",
      "source": [
        "residual= pred.predictions.select('medv', 'prediction').rdd.map(lambda x: x['medv']-x['prediction']).collect()\n",
        "predicted= pred.predictions.select('prediction').rdd.map(lambda x: x['prediction']).collect()\n",
        "pred.r2, pred.meanSquaredError, pred.meanAbsoluteError"
      ],
      "metadata": {
        "id": "lW6ytUbZWqHh",
        "colab": {
          "base_uri": "https://localhost:8080/"
        },
        "outputId": "eaf176f0-e296-418e-8417-81fac963d53f"
      },
      "execution_count": 16,
      "outputs": [
        {
          "output_type": "execute_result",
          "data": {
            "text/plain": [
              "(0.6478224536815926, 24.786308367265622, 3.6129291520514375)"
            ]
          },
          "metadata": {},
          "execution_count": 16
        }
      ]
    },
    {
      "cell_type": "code",
      "source": [
        "#create a residual plot\n",
        "sns.scatterplot(x=pred.predictions.select('medv').rdd.map(lambda x: x['medv']).collect(), y=residual, color='green')"
      ],
      "metadata": {
        "id": "TQn7894GW6AF",
        "colab": {
          "base_uri": "https://localhost:8080/",
          "height": 448
        },
        "outputId": "fec4b122-44ab-452d-e782-8c6faa1d05e6"
      },
      "execution_count": 17,
      "outputs": [
        {
          "output_type": "execute_result",
          "data": {
            "text/plain": [
              "<Axes: >"
            ]
          },
          "metadata": {},
          "execution_count": 17
        },
        {
          "output_type": "display_data",
          "data": {
            "text/plain": [
              "<Figure size 640x480 with 1 Axes>"
            ],
            "image/png": "[encoded data removed]"
          },
          "metadata": {}
        }
      ]
    },
    {
      "cell_type": "code",
      "source": [
        "from pyspark.sql import functions as F\n",
        "from pyspark.ml.regression import LinearRegression\n",
        "from pyspark.ml.feature import VectorAssembler\n",
        "\n",
        "# Step 1: Calculate residuals and add them as a new column\n",
        "pred_with_residuals = pred.predictions.withColumn('residual', F.col('medv') - F.col('prediction'))\n",
        "\n",
        "# Step 2: Assemble the features into a single vector column\n",
        "assembler = VectorAssembler(inputCols=['features'], outputCol='assembled_features')\n",
        "assembled = assembler.transform(pred_with_residuals)\n",
        "\n",
        "# Step 3: Select the assembled features and residuals\n",
        "train_data_with_residuals = assembled.select('assembled_features', 'residual')\n",
        "\n",
        "# Step 4: Fit a linear regression model for residual\n",
        "linear_reg_resid = LinearRegression(featuresCol='assembled_features', labelCol='residual')\n",
        "model_resid = linear_reg_resid.fit(train_data_with_residuals)\n",
        "\n",
        "# Display the model summary\n",
        "residual_summary = model_resid.summary\n",
        "residual_summary.predictions.show()\n",
        "\n"
      ],
      "metadata": {
        "id": "ZZWZXLWXYpkN",
        "colab": {
          "base_uri": "https://localhost:8080/"
        },
        "outputId": "bdff1629-c8e7-4383-c391-e488b5ea98d2"
      },
      "execution_count": 18,
      "outputs": [
        {
          "output_type": "stream",
          "name": "stdout",
          "text": [
            "+--------------------+-------------------+--------------------+\n",
            "|  assembled_features|           residual|          prediction|\n",
            "+--------------------+-------------------+--------------------+\n",
            "|[0.00632,18.0,2.3...| -6.223688917850634| -0.7669138246591807|\n",
            "|[0.00906,90.0,2.9...|0.49929359456476874| -0.9378427138268748|\n",
            "|[0.01311,90.0,1.2...|  4.583542881522931| 0.49616482849778265|\n",
            "|[0.02498,0.0,1.89...| -5.188006600462877|  0.9362654143153257|\n",
            "|[0.02731,0.0,7.07...|-3.7155150326814166| -1.1315282775984699|\n",
            "|[0.02763,75.0,2.9...| -0.617015311788645| -0.5001716624858581|\n",
            "|[0.02875,28.0,15....| -4.284734688991591| -0.8960571382812716|\n",
            "|[0.02899,40.0,1.2...|  5.261213723911741|   2.207383578946608|\n",
            "|[0.03041,0.0,5.19...|-0.4763331322755029|  0.8076316964879204|\n",
            "|[0.03113,0.0,4.39...| 1.4656413684798544|  1.2639576365579401|\n",
            "|[0.0315,95.0,1.47...|  5.067016508235852| 0.32090316169598765|\n",
            "|[0.03427,0.0,5.19...|-0.2670664043855915|   1.104727018345752|\n",
            "|[0.03584,80.0,3.3...|  -7.03844892248231| -1.0205987686161109|\n",
            "|[0.03659,25.0,4.8...|-1.1139627288625533| 0.12962126582452171|\n",
            "|[0.03932,0.0,3.41...| -5.791811521520895| -1.2562525077469537|\n",
            "|[0.04203,28.0,15....| -6.461612527552809| -1.6204928089984243|\n",
            "|[0.04294,28.0,15....| -7.152884586590286| -2.5753291198329613|\n",
            "|[0.04297,52.5,5.3...|-2.0814374283653088| -0.4764286723665023|\n",
            "|[0.04462,25.0,4.8...| -3.321290025525201| -0.9743826921649159|\n",
            "|[0.04527,0.0,11.9...|-1.8164295247232367|-0.05966567466091...|\n",
            "+--------------------+-------------------+--------------------+\n",
            "only showing top 20 rows\n",
            "\n"
          ]
        }
      ]
    },
    {
      "cell_type": "code",
      "source": [
        "!pip install pandas\n",
        "import pandas as pd\n",
        "\n",
        "# Convert PySpark DataFrame to Pandas DataFrame\n",
        "df = residual_summary.predictions.toPandas()\n",
        "\n",
        "# Plotting the residuals vs predictions\n",
        "plt.figure(figsize=(10, 6))\n",
        "plt.scatter(df['prediction'], df['residual'], alpha=0.5, color='Green')\n",
        "plt.axhline(y=0, color='r', linestyle='--')\n",
        "plt.title('Residuals vs Predictions')\n",
        "plt.xlabel('Predictions')\n",
        "plt.ylabel('Residuals')\n",
        "plt.grid(True)\n",
        "plt.show()"
      ],
      "metadata": {
        "colab": {
          "base_uri": "https://localhost:8080/",
          "height": 673
        },
        "id": "Rejpr2nJQa0J",
        "outputId": "590c3f19-bcb9-4231-c480-70e1032871a9"
      },
      "execution_count": 25,
      "outputs": [
        {
          "output_type": "stream",
          "name": "stdout",
          "text": [
            "Requirement already satisfied: pandas in /usr/local/lib/python3.10/dist-packages (2.0.3)\n",
            "Requirement already satisfied: python-dateutil>=2.8.2 in /usr/local/lib/python3.10/dist-packages (from pandas) (2.8.2)\n",
            "Requirement already satisfied: pytz>=2020.1 in /usr/local/lib/python3.10/dist-packages (from pandas) (2023.4)\n",
            "Requirement already satisfied: tzdata>=2022.1 in /usr/local/lib/python3.10/dist-packages (from pandas) (2024.1)\n",
            "Requirement already satisfied: numpy>=1.21.0 in /usr/local/lib/python3.10/dist-packages (from pandas) (1.25.2)\n",
            "Requirement already satisfied: six>=1.5 in /usr/local/lib/python3.10/dist-packages (from python-dateutil>=2.8.2->pandas) (1.16.0)\n"
          ]
        },
        {
          "output_type": "display_data",
          "data": {
            "text/plain": [
              "<Figure size 1000x600 with 1 Axes>"
            ],
            "image/png": "[encoded data removed]"
          },
          "metadata": {}
        }
      ]
    },
    {
      "cell_type": "code",
      "source": [
        "!pip install pandas\n",
        "import pandas as pd\n",
        "from pyspark.ml.regression import LinearRegression\n",
        "from pyspark.sql import functions as F\n",
        "\n",
        "# Assuming 'pred' is the variable holding your predictions from a previous step\n",
        "predictions = pred.predictions  # Assign the predictions DataFrame to 'predictions'\n",
        "\n",
        "# Calculate squared residuals and add them as a new column\n",
        "predictions = predictions.withColumn('squared_residuals', F.pow(F.col('medv') - F.col('prediction'), 2))\n",
        "\n",
        "# Define the auxiliary regression model\n",
        "aux_lr = LinearRegression(featuresCol=\"features\", labelCol=\"squared_residuals\", predictionCol=\"aux_prediction\")\n",
        "\n",
        "# Fit the model\n",
        "aux_lr_model = aux_lr.fit(predictions)  # Now 'predictions' contains the 'squared_residuals' column"
      ],
      "metadata": {
        "colab": {
          "base_uri": "https://localhost:8080/"
        },
        "id": "N3UI12JaSfaB",
        "outputId": "61a289b8-7d1b-4dfb-ef81-2789f0fc582f"
      },
      "execution_count": 23,
      "outputs": [
        {
          "output_type": "stream",
          "name": "stdout",
          "text": [
            "Requirement already satisfied: pandas in /usr/local/lib/python3.10/dist-packages (2.0.3)\n",
            "Requirement already satisfied: python-dateutil>=2.8.2 in /usr/local/lib/python3.10/dist-packages (from pandas) (2.8.2)\n",
            "Requirement already satisfied: pytz>=2020.1 in /usr/local/lib/python3.10/dist-packages (from pandas) (2023.4)\n",
            "Requirement already satisfied: tzdata>=2022.1 in /usr/local/lib/python3.10/dist-packages (from pandas) (2024.1)\n",
            "Requirement already satisfied: numpy>=1.21.0 in /usr/local/lib/python3.10/dist-packages (from pandas) (1.25.2)\n",
            "Requirement already satisfied: six>=1.5 in /usr/local/lib/python3.10/dist-packages (from python-dateutil>=2.8.2->pandas) (1.16.0)\n"
          ]
        }
      ]
    },
    {
      "cell_type": "code",
      "source": [
        "# Perform the Test\n",
        "# Number of observations\n",
        "n = predictions.count()\n",
        "\n",
        "# R-squared of the auxiliary regression\n",
        "r_squared = aux_lr_model.summary.r2\n",
        "\n",
        "# Breusch-Pagan test statistic\n",
        "bp_statistic = n * r_squared\n",
        "\n",
        "# p-value for the test statistic\n",
        "from scipy.stats import chi2\n",
        "\n",
        "p_value = chi2.sf(bp_statistic, df=aux_lr_model.numFeatures)\n",
        "\n",
        "print(f\"Breusch-Pagan Test Statistic: {bp_statistic}\")\n",
        "print(f\"p-value: {p_value}\")\n",
        "\n",
        "if p_value < 0.05:\n",
        "    print(\"Reject the null hypothesis: Heteroscedasticity is present.\")\n",
        "else:\n",
        "    print(\"Fail to reject the null hypothesis: No evidence of heteroscedasticity.\")"
      ],
      "metadata": {
        "colab": {
          "base_uri": "https://localhost:8080/"
        },
        "id": "RPviUvUqTpFf",
        "outputId": "1e51c65e-f636-445e-a6c2-8320d5da1fdc"
      },
      "execution_count": 24,
      "outputs": [
        {
          "output_type": "stream",
          "name": "stdout",
          "text": [
            "Breusch-Pagan Test Statistic: 37.1590973479183\n",
            "p-value: 0.0003911670729125313\n",
            "Reject the null hypothesis: Heteroscedasticity is present.\n"
          ]
        }
      ]
    }
  ]
}